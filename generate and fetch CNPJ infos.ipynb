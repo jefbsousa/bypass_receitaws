{
 "cells": [
  {
   "cell_type": "code",
   "execution_count": 17,
   "metadata": {},
   "outputs": [],
   "source": [
    "import grequests\n",
    "from random import randint\n",
    "from lxml.html import fromstring"
   ]
  },
  {
   "cell_type": "markdown",
   "metadata": {},
   "source": [
    "### Algorithm for generating random CNPJs"
   ]
  },
  {
   "cell_type": "code",
   "execution_count": 10,
   "metadata": {},
   "outputs": [],
   "source": [
    "def validate_digit(mult_array, digits_array):\n",
    "    sum_digits = sum(map(lambda x,y: x*y, mult_array, digits_array))\n",
    "    dig = sum_digits % 11\n",
    "    \n",
    "    if dig < 2:\n",
    "        dig = 0\n",
    "    else:\n",
    "        dig = 11 - dig\n",
    "\n",
    "    return dig\n",
    "\n",
    "\n",
    "def generate_cnpj():\n",
    "    cnpj_12d = str(randint(1000,1e8)).zfill(8) + '0001'\n",
    "    cnpj_int_l = [int(d) for d in list(cnpj_12d)]\n",
    "\n",
    "    first_dig = validate_digit([5,4,3,2,9,8,7,6,5,4,3,2], cnpj_int_l)\n",
    "    sec_dig = validate_digit([6,5,4,3,2,9,8,7,6,5,4,3,2], cnpj_int_l + [first_dig] )\n",
    "    return cnpj_12d + str(first_dig) + str(sec_dig)\n"
   ]
  },
  {
   "cell_type": "code",
   "execution_count": 14,
   "metadata": {
    "scrolled": true
   },
   "outputs": [],
   "source": [
    "#Write each random CNPJ to a text file. These file will be used to fetch data from the receitaWS API\n",
    "\n",
    "n = 10000\n",
    "list_cnpjs = [generate_cnpj() for i in range(n)]\n",
    "\n",
    "with open('list_cnpjs.txt', 'w') as f:\n",
    "    for cnpj in list_cnpjs:\n",
    "        f.write(f'{cnpj}\\n')"
   ]
  },
  {
   "cell_type": "code",
   "execution_count": null,
   "metadata": {},
   "outputs": [],
   "source": []
  },
  {
   "cell_type": "markdown",
   "metadata": {},
   "source": [
    "### Free Proxies"
   ]
  },
  {
   "cell_type": "code",
   "execution_count": 20,
   "metadata": {},
   "outputs": [],
   "source": [
    "import requests"
   ]
  },
  {
   "cell_type": "code",
   "execution_count": 105,
   "metadata": {},
   "outputs": [],
   "source": [
    "def fetch_proxies():\n",
    "    response = requests.get('https://free-proxy-list.net/')\n",
    "    parser = fromstring(response.text)\n",
    "    proxies = set()\n",
    "    for i in parser.xpath('//tbody/tr')[:300]: # this site provides up to 300 free proxies\n",
    "        # We do not want transparent proxies, since they do not work to bypass APIs\n",
    "        if i.xpath('.//td[5][not(contains(text(),\"transparent\"))]'):\n",
    "            # IP + Port\n",
    "            proxy = \":\".join([i.xpath('.//td[1]/text()')[0], i.xpath('.//td[2]/text()')[0]])\n",
    "            proxies.add(proxy)\n",
    "    return proxies"
   ]
  },
  {
   "cell_type": "code",
   "execution_count": null,
   "metadata": {
    "scrolled": true
   },
   "outputs": [],
   "source": []
  },
  {
   "cell_type": "code",
   "execution_count": null,
   "metadata": {},
   "outputs": [],
   "source": []
  }
 ],
 "metadata": {
  "kernelspec": {
   "display_name": "Python 3",
   "language": "python",
   "name": "python3"
  },
  "language_info": {
   "codemirror_mode": {
    "name": "ipython",
    "version": 3
   },
   "file_extension": ".py",
   "mimetype": "text/x-python",
   "name": "python",
   "nbconvert_exporter": "python",
   "pygments_lexer": "ipython3",
   "version": "3.6.5"
  }
 },
 "nbformat": 4,
 "nbformat_minor": 2
}
