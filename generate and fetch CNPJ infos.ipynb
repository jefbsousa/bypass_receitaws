{
 "cells": [
  {
   "cell_type": "code",
   "execution_count": 2,
   "metadata": {},
   "outputs": [],
   "source": [
    "import grequests\n",
    "from random import randint, sample\n",
    "from lxml.html import fromstring"
   ]
  },
  {
   "cell_type": "markdown",
   "metadata": {},
   "source": [
    "### Algorithm for generating random CNPJs"
   ]
  },
  {
   "cell_type": "code",
   "execution_count": 3,
   "metadata": {},
   "outputs": [],
   "source": [
    "def validate_digit(mult_array, digits_array):\n",
    "    sum_digits = sum(map(lambda x,y: x*y, mult_array, digits_array))\n",
    "    dig = sum_digits % 11\n",
    "    \n",
    "    if dig < 2:\n",
    "        dig = 0\n",
    "    else:\n",
    "        dig = 11 - dig\n",
    "\n",
    "    return dig\n",
    "\n",
    "\n",
    "def generate_cnpj():\n",
    "    cnpj_12d = str(randint(1000,1e8)).zfill(8) + '0001'\n",
    "    cnpj_int_l = [int(d) for d in list(cnpj_12d)]\n",
    "\n",
    "    first_dig = validate_digit([5,4,3,2,9,8,7,6,5,4,3,2], cnpj_int_l)\n",
    "    sec_dig = validate_digit([6,5,4,3,2,9,8,7,6,5,4,3,2], cnpj_int_l + [first_dig] )\n",
    "    return cnpj_12d + str(first_dig) + str(sec_dig)\n"
   ]
  },
  {
   "cell_type": "code",
   "execution_count": 4,
   "metadata": {
    "scrolled": true
   },
   "outputs": [],
   "source": [
    "#Write each random CNPJ to a text file. These file will be used to fetch data from the receitaWS API\n",
    "def write_to_txt(n, list_cnpjs):\n",
    "    with open('list_cnpjs.txt', 'w') as f:\n",
    "        for cnpj in list_cnpjs:\n",
    "            f.write(f'{cnpj}\\n')\n",
    "\n",
    "            \n",
    "list_cnpjs = [generate_cnpj() for i in range(10000)]\n",
    "write_to_txt(10000, list_cnpjs)"
   ]
  },
  {
   "cell_type": "code",
   "execution_count": 5,
   "metadata": {},
   "outputs": [],
   "source": [
    "def read_txt():\n",
    "    with open('list_cnpjs.txt', 'r') as f:\n",
    "        lines = f.readlines()\n",
    "        return [x.strip() for x in lines]\n",
    "    \n",
    "list_cnpjs = read_txt()"
   ]
  },
  {
   "cell_type": "code",
   "execution_count": 6,
   "metadata": {},
   "outputs": [
    {
     "data": {
      "text/plain": [
       "10000"
      ]
     },
     "execution_count": 6,
     "metadata": {},
     "output_type": "execute_result"
    }
   ],
   "source": [
    "len(list_cnpjs)"
   ]
  },
  {
   "cell_type": "code",
   "execution_count": null,
   "metadata": {},
   "outputs": [],
   "source": []
  },
  {
   "cell_type": "markdown",
   "metadata": {},
   "source": [
    "### Free Proxies"
   ]
  },
  {
   "cell_type": "code",
   "execution_count": 27,
   "metadata": {},
   "outputs": [],
   "source": [
    "import requests, json\n",
    "from time import time"
   ]
  },
  {
   "cell_type": "code",
   "execution_count": 8,
   "metadata": {},
   "outputs": [],
   "source": [
    "def fetch_proxies():\n",
    "    response = requests.get('https://free-proxy-list.net/')\n",
    "    parser = fromstring(response.text)\n",
    "    proxies = set()\n",
    "    for i in parser.xpath('//tbody/tr')[:300]: # this site provides up to 300 free proxies\n",
    "        # We do not want transparent proxies, since they do not work to bypass APIs\n",
    "        if i.xpath('.//td[5][not(contains(text(),\"transparent\"))]'):\n",
    "            # IP + Port\n",
    "            proxy = \":\".join([i.xpath('.//td[1]/text()')[0], i.xpath('.//td[2]/text()')[0]])\n",
    "            proxies.add(proxy)\n",
    "    return proxies"
   ]
  },
  {
   "cell_type": "code",
   "execution_count": 9,
   "metadata": {
    "scrolled": true
   },
   "outputs": [
    {
     "data": {
      "text/plain": [
       "279"
      ]
     },
     "execution_count": 9,
     "metadata": {},
     "output_type": "execute_result"
    }
   ],
   "source": [
    "list_proxies = list(fetch_proxies())\n",
    "len(list_proxies)"
   ]
  },
  {
   "cell_type": "code",
   "execution_count": null,
   "metadata": {},
   "outputs": [],
   "source": []
  },
  {
   "cell_type": "code",
   "execution_count": 31,
   "metadata": {},
   "outputs": [],
   "source": [
    "def exception_handler(request, exception):\n",
    "    print(\"Request failed\", exception)\n",
    "\n",
    "def generate_requests(cnpjs, proxies):\n",
    "    ## Create the list for parallel connections through free proxies\n",
    "    return [grequests.get(f'https://www.receitaws.com.br/v1/cnpj/{cnpj}', \n",
    "                          proxies = {\n",
    "                            \"http\": f'http://{proxy}', \n",
    "                            \"https\": f'http://{proxy}' \n",
    "                          },\n",
    "                          timeout=10) \n",
    "            for cnpj, proxy in zip(cnpjs, proxies)]\n"
   ]
  },
  {
   "cell_type": "code",
   "execution_count": 36,
   "metadata": {},
   "outputs": [],
   "source": []
  },
  {
   "cell_type": "code",
   "execution_count": 32,
   "metadata": {},
   "outputs": [],
   "source": [
    "def select_proxies(st, step, list_proxies):\n",
    "    \n",
    "    end = (st + step) % len(list_proxies)\n",
    "\n",
    "    if st > end:\n",
    "        return list_proxies[st:] + list_proxies[0:end] \n",
    "    else:\n",
    "        return list_proxies[st:end]\n",
    "    "
   ]
  },
  {
   "cell_type": "code",
   "execution_count": 33,
   "metadata": {},
   "outputs": [],
   "source": [
    "def save_json(r, cnpj):\n",
    "    data = json.dumps(r.content.decode(\"utf-8\"))\n",
    "    with open(f'./jsons/{cnpj}.json', 'w') as f:\n",
    "        json.dump(data, f)\n",
    "\n",
    "def check_response(resp, chosen_cnpjs, list_cnpjs):\n",
    "    \n",
    "    for r, cnpj in zip(resp, chosen_cnpjs):\n",
    "        if r:\n",
    "            if r.status_code == 200:\n",
    "                save_json(r, cnpj)\n",
    "                list_cnpjs.remove(cnpj)\n",
    "        "
   ]
  },
  {
   "cell_type": "code",
   "execution_count": null,
   "metadata": {},
   "outputs": [],
   "source": []
  },
  {
   "cell_type": "code",
   "execution_count": null,
   "metadata": {},
   "outputs": [],
   "source": [
    "proxies = list_proxies[:100]\n",
    "cnpjs = list_cnpjs[:50]\n",
    "\n",
    "step = 20\n",
    "st = 0\n",
    "count = 0\n",
    "\n",
    "while len(cnpjs) >= step:\n",
    "    \n",
    "    if count % 3 == 0:\n",
    "        proxies = list(fetch_proxies())\n",
    "        \n",
    "    start_time = time()\n",
    "    chosen_cnpjs = sample(cnpjs, step)\n",
    "    \n",
    "    chosen_proxies = select_proxies(st, step, proxies)\n",
    "    st = (st + step) % len(list_proxies)\n",
    "    \n",
    "    reqs = generate_requests(chosen_cnpjs, chosen_proxies)\n",
    "    resp = grequests.map(reqs)\n",
    "    \n",
    "    check_response(resp, chosen_cnpjs, cnpjs)\n",
    "\n",
    "    count += 1\n",
    "    print(len(cnpjs), time()-start_time, count)\n"
   ]
  }
 ],
 "metadata": {
  "kernelspec": {
   "display_name": "Python 3",
   "language": "python",
   "name": "python3"
  },
  "language_info": {
   "codemirror_mode": {
    "name": "ipython",
    "version": 3
   },
   "file_extension": ".py",
   "mimetype": "text/x-python",
   "name": "python",
   "nbconvert_exporter": "python",
   "pygments_lexer": "ipython3",
   "version": "3.6.10"
  }
 },
 "nbformat": 4,
 "nbformat_minor": 4
}
